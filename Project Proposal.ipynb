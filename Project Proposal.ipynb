{
 "cells": [
  {
   "cell_type": "markdown",
   "id": "missing-disaster",
   "metadata": {},
   "source": [
    "# Goals"
   ]
  },
  {
   "cell_type": "markdown",
   "id": "dirty-memory",
   "metadata": {},
   "source": [
    "**What is the topic of your project**\n",
    "\n",
    "- Using NLP and Time Series graphs to collect and show the sentiment of apple user complaints over time\n",
    "\n",
    "**What is the business or social case of the project?**\n",
    "\n",
    "- To address angry users in a respectful and calm matter\n",
    "- To see if there's a trend in user complaints\n",
    "\n",
    "**Why does it matter?**\n",
    "\n",
    "- to make business better\n",
    "- to make apple more empathetic to the customers needs\n",
    "- to decrease the amount of complaints"
   ]
  },
  {
   "cell_type": "markdown",
   "id": "extensive-attention",
   "metadata": {},
   "source": [
    "# Data"
   ]
  },
  {
   "cell_type": "code",
   "execution_count": 1,
   "id": "hybrid-first",
   "metadata": {},
   "outputs": [],
   "source": [
    "import twint\n",
    "import nest_asyncio\n",
    "\n",
    "nest_asyncio.apply()"
   ]
  },
  {
   "cell_type": "code",
   "execution_count": 2,
   "id": "rubber-requirement",
   "metadata": {},
   "outputs": [
    {
     "name": "stdout",
     "output_type": "stream",
     "text": [
      "1353694338308567041 2021-01-25 08:20:55 -0500 <KR6573> Apple Complaints  https://t.co/zxfb2VWDxX\n",
      "1353688315128655872 2021-01-25 07:56:59 -0500 <120feet> @AppleSupport Apple Watch 5 has 17.3gb of available space yet it won't let me sync more than 5.6gb of music. Why the unnecessary limit? Read lots of complaints but no answers. Eg  https://t.co/ougBUj5Ouc  https://t.co/2ypVRvKfS2\n",
      "1353671750987485185 2021-01-25 06:51:10 -0500 <BUZZFISH1> @Apple you have deemed my iPad Pro as having had accidental damage to the lcd screen but glass is uncracked, case unscathed;no signs of a drop. But you won’t justify or discuss.Only ever been put down and picked up on a table. No complaints team to escalate to? @MartinSLewis ?\n",
      "1353669957675048961 2021-01-25 06:44:02 -0500 <BUZZFISH1> @MartinSLewis .My iPad Pro developed a fault on the LCD screen 6 months after purchase. Apple says ‘accidental damage’ but it’s lived in a case since was bought from  https://t.co/MVm37bPewT, no external signs of damage, and Apple won’t justify. No complaints team. Any advice?\n",
      "1353530739707375617 2021-01-24 21:30:50 -0500 <putobumbongs> my order has been in customs for a week so i called apple and the cs rep said they usually get the same complaints, mukhang mabagal daw talaga customs sa pilipinas HSHSHS nakakahiya 💀 anyways i will be updating my au in a bit hihe\n",
      "1353436438998568961 2021-01-24 15:16:07 -0500 <truelai> @Scott_Helme @Apple Man, I have so many complaints about passwords. These things are always happening to me (I often use 128 character strings):  - No indication of max length - Incorrect max length - No list of illegal characters (while still enforcing) - Incomplete/wrong list of illegal characters\n",
      "1353365317481865216 2021-01-24 10:33:30 -0500 <Robot_Bastard> @SwiftOnSecurity @Ash_R_Dev I remember when they added multithreading and every iPhone 3 turned into garbage, and Apple's response to user complaints was \"why haven't you already bought an iPhone 4?\"\n",
      "1353352263285223427 2021-01-24 09:41:38 -0500 <scottcawson> So let's deal with the complaints.  The Jets can't keep young players?  Morrissey, Scheifele, Connors, DeMelo, Helleybuck, Ehlers all say shut up, not true. All signed long term, some on sweetheart deals. A couple (4) bad apples don't spoil the cider.\n",
      "1353324995548688384 2021-01-24 07:53:17 -0500 <Mtdubdachamp> I been team android since its inception, thinking of going over to #apple but I hear so many complaints and it kinda got me rethinking my steps lbvs. Tbh idk if I even like iphones but I love the camera! 🤔🤔🤔\n",
      "1353288425407832065 2021-01-24 05:27:58 -0500 <iamshaik> @RijoJohn10 @AppleSupport @Apple @AppleSupport look into this matter @RelianceDigital @RelianceResQ are you not getting what is going on ? How many reminders and complaints you need on this ?\n",
      "1353237832043663360 2021-01-24 02:06:55 -0500 <amresendez> @adam_shniderman The integration with the apple watch is only if you sync it etc. It actually isn’t a great integration nor automatic and that is one of my complaints about it\n",
      "1353230786779078661 2021-01-24 01:38:56 -0500 <melissa_hatter> @FitbitSupport I’m very disappointed that despite all the complaints of the new zone calculations and the custom max heart rate and custom zone not working that the update didn’t resolve any issues. Please listen to customer feedback or they’ll become Apple’s customers\n",
      "1353222052086333443 2021-01-24 01:04:13 -0500 <tek_fiz> After Apple and Google rejected COVID new crown virus-themed games, developers filed antitrust complaints  https://t.co/luELzl201j\n",
      "1353205553242103809 2021-01-23 23:58:39 -0500 <steveallen2373> @MLPressman @jeffpearlman Completely agree. USB-A has been around for 25 years, so when exactly would be a good time to innovate?  Apple is legend for this, and despite all the complaints, we sure do keep buying their stuff.\n",
      "1353074259799629825 2021-01-23 15:16:57 -0500 <jhamby> I really like Apple’s current aesthetic, but I don’t have any big complaints about any of the Linux desktops. My biggest complaint about Windows 10 is there are a lot of little “fit and finish” problems with the window edges or the fonts looking a bit sloppy, not “pixel perfect”.\n",
      "1353061106776858630 2021-01-23 14:24:41 -0500 <Teddy_Ferragamo> SOCIAL EXPERIMENT.   Told 3 girls last week to start some farming, it ago solve a whole heap of the problems and complaints they have.  1 girl, mek 3 row a Cannabis start grow in 1 week.  1 girl, gave me fresh Apples from her tree. 1 girl, argued with me, over $50.  Selah.\n",
      "1353034241903390722 2021-01-23 12:37:56 -0500 <atheistpianist> @Powerleg6 @CBCAlerts Haha my Neutrogena foundation I water-based but I can see you tried really hard to come up with that. 😂🤣 Also, both my cell phone and desk phone are in fact plastic, but both are required for my job, would you like to take your complaints up with Apple and Polycom?\n",
      "1353028740549398528 2021-01-23 12:16:04 -0500 <Twincherrystud1> @DevilNergigante HAHAHAHA A company that's transparent and acknowledges faults. Now you're dreaming junior. Complaints on Twitter don't line CEOs pockets with Money. Boycotts work haha how's the Starbucks boycott working out. The Apple Boycott. All making Billions and changing nothing.\n",
      "1352974740076507137 2021-01-23 08:41:29 -0500 <patentbuddy> FOSS Patents: Filed complaints with competition authorities about Apple's and Google's COVID app rules  https://t.co/jHr1u2fFsQ\n",
      "1352968668091707393 2021-01-23 08:17:22 -0500 <LaskyLabs> @Padgriffin_ @LiquidFireGR @linusgsebastian I'm excited for their next set of arm machines. When I first saw them I thought \"Gasp! Actually innovating! From apple? No way!\" Honestly though, their latest iPhones are quite good... But I have some complaints. No usb-c, non replaceable parts, and no android.\n",
      "1352923974552977412 2021-01-23 05:19:46 -0500 <VictoriaEMurray> @seyiakiwowo Think all of our apple products are refurbs- no complaints here!\n",
      "1352870853009166337 2021-01-23 01:48:41 -0500 <LiquidFireGR> @linusgsebastian Apple watch, going out saying M1 is so cool, telling us that iPad is a laptop replacement, not having complaints about new iPhones... Yeah I guess I know what he's talking about.\n",
      "1352791383719854080 2021-01-22 20:32:54 -0500 <RealRaw_Talk> @matt_barrie Lol... Pretty sure those with vpn - of which many have - dont care. But it will be interesting how @google - shipped with most phones handle that legal obligation. @microsoft is salivating. I dont think google can do Much without @Apple &amp; @SamsungMobile getting complaints\n",
      "1352726854042603520 2021-01-22 16:16:29 -0500 <launchticker> German app developer files complaints with antitrust authorities, alleging Apple and Google harmed innovation by rejecting his COVID-19-related game -   https://t.co/SHEbRDXKtT\n",
      "1352699711510089728 2021-01-22 14:28:37 -0500 <iptops_com_blog> 【知財関連ブログ】Filed complaints with competition authorities about Apple's and G[海外有名知的財産ブログ] [知財ブログ][知財フィルター]   https://t.co/EmzqDfjZL1\n",
      "1352692897376849921 2021-01-22 14:01:33 -0500 <mobileworldlive> In a series of complaints, @FOSSpatents' #FlorianMueller argued @Google @Apple are hindering development of #COVID19-related apps  https://t.co/g86gqWgjxM\n",
      "1352672764293914624 2021-01-22 12:41:33 -0500 <TINMobileNews> Filed complaints with competition authorities about Apples and Googles COVID app rules (noreply@blogger.com (Florian Mueller)/FOSS Patents)  https://t.co/zTNmVaZUv7\n",
      "1352670508748169218 2021-01-22 12:32:35 -0500 <Flatline42> @amandahugnkis_ @itsa_talia NPR bought it out a while back. It's simple. I bought it back when Android had no podcast apps that were any good. I think it ties into the Apple podcast database anyway. I have no complaints about it.  As you can see from my stats it's... uh... functional LOL  https://t.co/NSXiyVeSPM\n",
      "1352667253628674050 2021-01-22 12:19:39 -0500 <pjb_media> #Apple LOVES to take away basic features - like SD card readers &amp; MagSafe - only to bring them back after years of user complaints as if they are new, unique features  Welcomed changes, but should have never been removed  #MacBookPro #M1\n",
      "1352664607727431687 2021-01-22 12:09:08 -0500 <schestowitz> FOSS Patents: Filed complaints with competition authorities about #Apple and #Google #COVID19 app rules ⇨  https://t.co/gEAT8SFl3E •●• @fosspatents on #antitrust issues\n",
      "1352646831533158400 2021-01-22 10:58:30 -0500 <FOSSpatents> Filed complaints with #competition authorities about #Apple's and #Google's #COVID app rules   https://t.co/scCZ1Ockr7 #appstore #googleplay #antitrust #sarscov2 #covid19 #corona #coronavirus #viraldays\n",
      "1352635064845279236 2021-01-22 10:11:44 -0500 <EauxReally> @Premium_Dell The app interface is cool &amp; pretty intuitive. No complaints so far. Cash back isn’t as good as another card I have but I use it for Apple TV purchase &amp; e-books. You phone is the card though which can be weird to get used to. They send a physical card but I barely use it\n",
      "1352633198027616265 2021-01-22 10:04:19 -0500 <OmegaFinAG>  https://t.co/fkX8LyXTKx #Apple #Google #Applications #EU #EuropeanUnion #Complaints\n",
      "1352632342079299585 2021-01-22 10:00:55 -0500 <iMore> German app developer and FOSS Patents founder files antitrust complaints against Apple  https://t.co/Yu79lAOxyN\n",
      "1352564596335390722 2021-01-22 05:31:43 -0500 <Dr_AmroHO> @SamsungMobile I loved the design my complaints are 1. sdcard the storage isn't enough for 4k &amp; 8k  https://t.co/WyQZScvnLB should be 256gb base or sd  2. Removal of charger really?! since when Samsung became apple lapdog  3. Plastic s21!!!  4.fhd s21 plus!!! Make a big gap  Good job otherwise\n",
      "1352556934528786435 2021-01-22 05:01:17 -0500 <MsandeepD> APPEAL TO APPLE  CUSTOMERS *MAHARASHTRA NAVNIRMAN SENA* appeals to all Apple customers, we got lots of complaints frm customers against *Unicorn Apple store* Andheri west, if any customer has any complaint /grievances then pls contact  *Sandesh Desai*(VIBHAG ADHYAKSH) #9892351110\n",
      "1352495744381558784 2021-01-22 00:58:08 -0500 <ChrisTalksOnPod> So, I have flipped back and forth between Android and Apple so many times throughout the years.  I currently have an iPhone XR. Nice phone, I like it, no major complaints. However, I miss having a Google Pixel. And I see some great deals on Pixel phones... Should I buy?\n",
      "1352456542382133248 2021-01-21 22:22:21 -0500 <TswanaSeun> @IsPhlyHoney Watching on Apple music. Can't really judge the sound that much cause I'm listening on my phone 😂. But I see one or two complaints Ka sound on my TL\n",
      "1352437341458223106 2021-01-21 21:06:03 -0500 <dmdstar> @timothywoodsis @BreitbartNews I understand why. Amazon said Parler was \"unable to effectively identify and remove content that encourages or incites violence against others,\" which is entirely untrue. Google &amp; Apple had similar complaints. Twitter runs on AWS as well, and has calls to violence too.\n",
      "1352378927331815427 2021-01-21 17:13:56 -0500 <RyanLaffey> Every morning I remote start my car to let it warm up, then I take my dog for a walk, when I go outside Apple Music starts blasting some random song from my car every time. I know you hear the complaints. Fix this! @AppleMusic  the only app that you have to open just to close.\n",
      "1352329657711009793 2021-01-21 13:58:10 -0500 <Eparton3> @PastorMaryMac I agree, she’s lovely. So tired of seeing complaints and requesting Christina Aguilera☹️ apples and oranges❤️\n",
      "1352312118457094146 2021-01-21 12:48:28 -0500 <ShireenFarkhoy> Just been told that @Apple don't have a complaints department that any customer can freely access.  You can only speak to a manager.  If they can't resolve a technical issue, you can't complain.  So basically you can only get through complaints team if you're happy! #buysamsung  https://t.co/TgexWXbpmS\n",
      "1352289911236407296 2021-01-21 11:20:13 -0500 <alanmoss1> @Channel4 @arobertwebb The All4 app is not working on Firesticks, Apple TV, and at least some SmartTVs. Several complaints on the @All4 Facebook page but no replies. Any suggestions?\n",
      "1352251203866959872 2021-01-21 08:46:25 -0500 <vibhor_sharma_8> @applesupport my iphone 11 is just 10 months old and the performance is so dire. I have logged multiple complaints with Apple Service centre but no resolution provided. The product is just not as how i expected and to add on the services is awful. Please address.\n",
      "1352247992821178372 2021-01-21 08:33:39 -0500 <atheistpianist> @UniteAmerica1st @briguy4588 @JudgeClayJ @JoeBiden Real talk though, why are you still here? 🤔 From your main account, looks like you were ready to leave on 1/8. 🤷🏻‍♀️ Also, if you have a problem with what Apple news sends to your phone notifications, you should probably take your complaints to them. 😉\n",
      "1352199866672320512 2021-01-21 05:22:25 -0500 <biplab5464> @hishnash @avinaashdhumal @ColdFusion_TV @intel @AMD @risc_v I know i am rude towards apple, i am someone who dislike apple corporation policy and behaviour, but i have no complaints about their products, they have some best products in the market. Hopes you can understand me.\n",
      "1352085067665960960 2021-01-20 21:46:15 -0500 <ElisaSDavis> @fred_royster @Apple @AppleSupport Lots of complaints. No fix yet. What a weird change for them to make!\n",
      "1352024988149297154 2021-01-20 17:47:31 -0500 <PopCulture413> @Walker_KM @ComicsintheGA Agree. Often I’ll read complaints about a movie or TV show not streaming, and then look to my shelf and see it on DVD. But, now that I have Apple TV, I rebuy films and TV shows on iTunes since that is the easiest way to watch.\n",
      "1351996347566743553 2021-01-20 15:53:42 -0500 <AjPerez2727> @BernMaestro @ericisaac You’re comparing apples to oranges here. No one gets arrested for filing complaints. So yes, people actually take the time to complain about things for illegitimate reasons. The things people complain about would never cease to amaze you.\n",
      "1351991792045056014 2021-01-20 15:35:36 -0500 <Balnagowan67> @Apple can you please revert back to photographs being attachments in emails and not embedded into the mail, this is causing all sorts of problems it’s a pain in the backside &amp; increased workload. There are pages of complaints in the community website\n",
      "1351974413525250054 2021-01-20 14:26:33 -0500 <GetFuckedAllYou> @david_morgen @GlauSciathan @ericisaac @shaunking I don't think that's what op was saying. I think they are saying with that many complaints filed, there's a MAJOR problem and the people charged with looking into that problem are literally the ones causing it. One bad apple ruins a bushel, but this is clearly MANY bad ones.\n",
      "1351967568412762115 2021-01-20 13:59:21 -0500 <Silviu_NGS> @MaxWinebach What makes the apple watch better for you? I have the series 6 and it's nice, no complaints. But I don't see anything that great compared to my old gear S3. Maybe I am not using it at its full potential?\n",
      "1351961054155255810 2021-01-20 13:33:28 -0500 <tbtech4> @zollotech watch your channel all the time please mention in next video about major connectivity issues (no service) on 12 models, many complaints online of this issue, Apple discussion forum,Macrumors,Reddit and many tech sites, and still no acknowledgement or fix from Apple.\n",
      "1351958854100254723 2021-01-20 13:24:43 -0500 <tbtech4> @iDeviceHelpus watch your channel all the time. I have a 12 pro with major connectivity issues (no service), thousands of complaints on line -Apple discussion forums,macrumors,Reddit and many tech sites. Please mention in next video. Still no fix.\n",
      "1351953291043856393 2021-01-20 13:02:37 -0500 <leiakanani> @ericisaac ... y’all post that it’s actually at least 3200 ... now divide 1826 into 3200 &amp; you will see that AT LEAST 57%  (give or take) OF THE DEPARTMENT HAS GOTTEN COMPLAINTS AGAINST THEM. that’s hella more than ‘a few bad apples’, just like the op stated 💁🏾‍♀️-  https://t.co/YkwAtwM5l5\n",
      "1351952073110282244 2021-01-20 12:57:46 -0500 <RadelieneL> @ericisaac they call bad apples the 74 with no complaints\n",
      "1351931288459112448 2021-01-20 11:35:11 -0500 <RegardNews> Apple AirPods Max Battery Exhaustion Problem Complaints Are Increasing  https://t.co/rdhwyWc0JZ\n",
      "1351914291704848384 2021-01-20 10:27:39 -0500 <mag_vinicius> U don't understand, the \"few bad apples\" are the ones with no complaints\n",
      "1351903863784280073 2021-01-20 09:46:12 -0500 <KylieeLovee_x3> accused =/= guilty. multiple complaints against the same officer is probable therefore the statement “just a few bad apples” is possible.\n",
      "1351893546270400515 2021-01-20 09:05:13 -0500 <PsycheMax> @ericisaac They were referring to the guys without complaints filed in their names - those are the few bad apples.\n",
      "1351886130581557248 2021-01-20 08:35:45 -0500 <antiracistsouth> But it’s not fair that a “few bad apples” would give a bad name to the...    *checks notes*  ...74 police officers without any complaints!\n",
      "1351829226006208512 2021-01-20 04:49:37 -0500 <GoodrichAaron> if 96% of the department has had complaints does that mean the whole apple tree has gone bad yet?\n",
      "1351793488422121472 2021-01-20 02:27:37 -0500 <ihopeiamanalien> I'm white as fuck, I'm not stupid about drugs or weapons, I can behave when drinking in public, I come across as a complete non-threat, and I still avoid Baltimore.  \"Just a few bad apples spoils the other 3.9% who haven't had complaints yet!\"  #ACAB\n",
      "1351791972692930560 2021-01-20 02:21:36 -0500 <chrisdrinkintea> @ericisaac @valeriusaurous So out 1900 cops we have 1826 complaints theres so theres only 74 good cops. Yea its totally just a few bad apples\n",
      "1351747581420871683 2021-01-19 23:25:12 -0500 <Refugee_Son76> @ericisaac @zoyaislove The 74 without complaints(yet) are the bad apples\n",
      "1351736077476896770 2021-01-19 22:39:29 -0500 <ZStewart574> Here’s the thing: it’s not just a few “bad apples” giving everyone else a bad rep. It’s a systemic problem plaguing most of the people in law enforcement.  96% of the force has complaints against them. 21% of complaints are about violence.  https://t.co/en8VZjTfqs\n",
      "1351717272553881603 2021-01-19 21:24:46 -0500 <SamRegion2021> # According to complaints posted on the #Apple Support Forums (via 9to5Mac), the over-ear #AirPodsMax has a nasty bug that rapidly drains the battery.   https://t.co/h0ca5S0zPs  https://t.co/OPDDBTGOSB\n",
      "1351716668582539266 2021-01-19 21:22:22 -0500 <AlimUddin00> If you didn’t do the math that’s 74. 74 officers in all of Baltimore that don’t have complaints against them. 74 “good apples” or “not rotten yet apples.” Police reform will not happen by “Good” Police.\n",
      "1351710548660989952 2021-01-19 20:58:03 -0500 <sleepynomi> the updated numbers show around 3,200 police officers in the baltimore area. if 1,826 have had complaints leveled against them, that's 57% of them. OVER HALF OF THEM. this was never 'a few bad apples'. this is systemic, and sickening.\n",
      "1351700982535745539 2021-01-19 20:20:02 -0500 <EyeCeeHere> @ericisaac @IwriteOK Clearly in this case the bad apples are the ones who DON'T have complaints getting filed. Shape up or ship out, officers.\n",
      "1351682578496040967 2021-01-19 19:06:54 -0500 <AndrewSpingola> @madebygoogle @Google  With your acquisition of #Fitbit please address thousands/hundreds of complaints on the screen quality and repair options!! We understand damage is not covered but there should be a way to repair the screen for a fee like @AppleSupport @Apple does 🙄\n",
      "1351682033542721543 2021-01-19 19:04:44 -0500 <GrindLinePod> Episode 108 - The Ups and Downs of Week One  @BringingTheWing, @rdryan33, and @Sealdog91 discuss the positives and negatives from the first 3 games as well as the current fan complaints in episode 1 of the season!  #LGRW #RedWings  Apple Pods in Bio!   https://t.co/JdLFfqDfqt\n",
      "1351677023920467969 2021-01-19 18:44:50 -0500 <Exindiv> @rabidskwrlninja 74 officers without complaints. That's roughly 4% of the force. Seems like their problem is only a few good apples...\n",
      "1351673832311029760 2021-01-19 18:32:09 -0500 <SaraLeanneLoga1> @daydream_jimin @TinyHobi94 I was blackberry before Samsung. I havent been disappointed yet and I started with them before bts had anything to do with them. I know people who have had apple phones and heard nothing but complaints.\n",
      "1351658452842643456 2021-01-19 17:31:02 -0500 <nichartley> Baltimore County is still only 2500, this is still \"a few good apples\" territory. And that assumes that the cops who got complaints are the only ones causing (or standing by and allowing) abuse...\n",
      "1351653007956426754 2021-01-19 17:09:24 -0500 <CFCHudsonValley> @davepell In re: your Apple Remote complaints, I thank you for your service.\n",
      "1351652777441722368 2021-01-19 17:08:29 -0500 <davepell> I have a four year backlog of kitty videos and complaints about the Apple Remote.\n",
      "1351651472111525891 2021-01-19 17:03:18 -0500 <spotted_menace> \"Seems like the unspoiled, fresh, delicious apples are at a premium in the bunch.\"  FULL DISCLOSURE: the original QT'd post is actually inaccurate in that the city of Baltimore employs 3100 total personnel.  Still, over HALF of those with complaints...\n",
      "1351649698105462787 2021-01-19 16:56:15 -0500 <rebound_ttv> In this example, \"a few bad apples\" must refer to the cops without complaints. At least that's how Baltimore PD must see it.\n",
      "1351578133544259588 2021-01-19 12:11:52 -0500 <MowliidAHassan> I hope, @AppleSupport team are registering our complaints and will take appropriate actions to ensure Apple products users in Somalia get equal access and rights as other users in else.\n",
      "1351536356674121729 2021-01-19 09:25:52 -0500 <SEAS21> @lonelybrand Powerbeats pro gave me contact dermatitis in my inner ear. Something they coat the silicone with is causing it. Many complaints on Apple chat.\n",
      "1351504323264598016 2021-01-19 07:18:35 -0500 <cristianafarias> @chardday Doesn’t work either — from complaints I’ve seen in the Apple support forums.\n",
      "1351421453099438080 2021-01-19 01:49:17 -0500 <JLynnJohnston> It’s 2021 and the @apple TV remote is still utterly terrible.  Ok, back to complaints that actually matter.\n",
      "1351409946189942784 2021-01-19 01:03:33 -0500 <JerinJoyce> @elliot66697205 @tim_cook Bro i also hv Iphone 6 plus and I hv also used Iphone and I am also a apple fanboy. Even my phone is still working with no complaints. I actually mentioned about their design and certain features tht flagship phones hv but not Iphone. I nvr complained about the durability.\n",
      "1351304002848268290 2021-01-18 18:02:34 -0500 <ARSCON12> @DeviousPL Many people wanted a reversible cable. All the memes about flipping a USB A around 3 times to get it in right are indirect complaints. USB C is reversible for what other reason? Apple’s cables aren’t durable, nor do people take care of them. Mix those together and they fall apart\n",
      "1351245166519185413 2021-01-18 14:08:47 -0500 <laurakgoodwin> @kate_murphy73 @AppleSupport @Apple Currently going through the complaints process...although I imagine it will get me nowhere. An absolute joke as I’ve spent so much of my time “assisting” them and providing “evidence” for them to build a case. So I have a watch I can’t wear, and lots of time wasted! 👌🏼\n",
      "1351188548930707457 2021-01-18 10:23:48 -0500 <ivery18> @Nora_Nicole97 @Auntyplanty @RawBeautyKristi I hate apple have used Samsung my entire phone life and have had no issues or complaints. You'd think one of my phones would have had a problem but nope I'm good\n",
      "1351171317085700099 2021-01-18 09:15:20 -0500 <mickhumph> Apple (UK) Complaints  https://t.co/9blQXAPyWZ\n",
      "1351112512075395073 2021-01-18 05:21:39 -0500 <sociallyauxcord> No complaints, I got to round 34 in zombies, made apples slices with honey and cinnamon and that’s a straight banger W: 14 L:2\n",
      "1351069308080828417 2021-01-18 02:29:59 -0500 <badwebsites> @jennylens BE CAREFUL WITH THAT MAC STUFF! I have working Catalina &amp; I won't touch it. Too many complaints about the newer MacOses. Apple shipped me Catalina on a brand new 'puter, &amp; I think it's cuz they realized newer macOses would crash it.\n",
      "1351067415543767040 2021-01-18 02:22:28 -0500 <Antonik1983> Who has any complaints about this @Apple_Tomorrow  person?\n",
      "1351039347798192135 2021-01-18 00:30:56 -0500 <kodyisokay> @saradietschy I drive a Mazda CX-5. The new ones come with both Apple Car play and android play. Pleeeenty of cargo space, but also really comfortable for holding 4 or 5 people for just driving around. Highly recommend. Genuinely no complaints about it. Zoom zoom.\n",
      "1351014165884903431 2021-01-17 22:50:52 -0500 <davidstehle> I love my #MacBookAirM1! Only complaints...  — bring back the MagSafe — offer it in 15\" — I miss the backlit Apple logo\n",
      "1351004155800936463 2021-01-17 22:11:05 -0500 <ifnotnora> As someone who lives on apples, I find this incredibly entertaining.  Also, Honey Crisp and Pink Lady are superior. I will not take questions or complaints at this time.\n",
      "1350991276515143685 2021-01-17 21:19:55 -0500 <westphalscience> Pork butt on the smoker.  12 hours on with apple juice injection, holy voodoo rub.  It was amazing and no complaints from the house at all! @BbqProsper  https://t.co/jP27XsMGf7\n",
      "1350946391988858882 2021-01-17 18:21:33 -0500 <LugerLab> we live near the 'Colorado Cherry Company'. I believe that purchasing at least one apple bourbon pie per week is an essential service to the community.  They also ship. You are welcome (no complaints about #shrinkingpants please)  https://t.co/H1xxX3zOUM\n",
      "1350887986427265026 2021-01-17 14:29:28 -0500 <gimmemoooah> iFixit said the flex cable was extended by 2mm in 2018 models to address this issue, so I'm not sure why Apple is only authorizing free repairs for 2016 models and hasn't extended coverage to 2017 models yet. I've seen complaints from 2017 owners.\n",
      "1350880779958628352 2021-01-17 14:00:50 -0500 <rsgnl> iFixit said the flex cable was extended by 2mm in 2018 models to address this issue, so I'm not sure why Apple is only authorizing free repairs for 2016 models and hasn't extended coverage to 2017 models yet. I've seen complaints from 2017 owners.\n",
      "1350876769629450241 2021-01-17 13:44:54 -0500 <Epcyclopedia> @Apple Doesn’t allow airplay and apple won’t comment or respond to complaints. Don’t buy.\n",
      "1350875085075320840 2021-01-17 13:38:12 -0500 <jimintoronto> I think officer dickhead will have a trail of complaints against him from over the years. Hey @SeattlePD , try policing your 'bad apples'...\n"
     ]
    }
   ],
   "source": [
    "c = twint.Config()\n",
    "c.Search = \"apple complaints\"\n",
    "c.Limit = 20\n",
    "\n",
    "# Run\n",
    "twint.run.Search(c)"
   ]
  },
  {
   "cell_type": "code",
   "execution_count": 3,
   "id": "duplicate-supplier",
   "metadata": {},
   "outputs": [
    {
     "name": "stdout",
     "output_type": "stream",
     "text": [
      "1353729112746184706 2021-01-25 10:39:06 -0500 <AppleSupport> @MrWeg Thank you for providing those details. The HomePod mini does not support home theater sound, but the regular HomePod can be used for theater sound:  https://t.co/sXCuB1uSQJ   For additional questions, reach out to our Apple TV team here:  https://t.co/IBIY3vMgPj\n",
      "1353728975256887297 2021-01-25 10:38:33 -0500 <AppleSupport> @mikeythered27 Thanks for reaching out. We’d like to help. Please DM us, and let us know the Apple Watch model and software version you’re seeing this with.   We’ll go from there.  https://t.co/GDrqU22YpT\n",
      "1353728546930388992 2021-01-25 10:36:51 -0500 <AppleSupport> @immabeahippo Thanks for reaching out again. We’d like to look into this, together.   Please DM us, and provide us some more information about your repair, and we’ll go from there.  https://t.co/GDrqU22YpT\n",
      "1353728483881607169 2021-01-25 10:36:36 -0500 <AppleSupport> @marcypls Thanks for reaching out to us today. This icon shows when you have AirPods connected and Announce Messages with Siri is enabled. This link can provide more information:  https://t.co/t18hWgBiv0\n",
      "1353728222194786304 2021-01-25 10:35:33 -0500 <AppleSupport> @stooovie We’re happy to help. This link provides details on how to set up Universal Clipboard, as well as how to turn on Handoff:  https://t.co/621VnkatSh To turn Handoff off, please uncheck the option on both devices. If you have any additional questions, please DM us.  https://t.co/GDrqU22YpT\n",
      "1353727904304271360 2021-01-25 10:34:18 -0500 <AppleSupport> @ninja7005 We got your message and we’ll continue with you in DM!  https://t.co/GDrqU22YpT\n",
      "1353727474753007623 2021-01-25 10:32:35 -0500 <AppleSupport> @LogicAndLifting Thank you for letting us know. We first recommend restarting the iPhone, which can be done following this guide:  https://t.co/v8UilXI2QI   If the issues persist after the restart, please send us a DM for next steps.  https://t.co/GDrqU22YpT\n",
      "1353727285820612609 2021-01-25 10:31:50 -0500 <AppleSupport> @aiims_amit We would be happy to help! When it comes to Face ID, check out this article:  https://t.co/73QRMUh6FN   DM us the iOS you are running on your iPhone so we can look further into the best available options.  https://t.co/GDrqU22YpT\n",
      "1353727274558902277 2021-01-25 10:31:47 -0500 <AppleSupport> @schemeka__ Let’s get this resolved! Can you tell us which device and the version of software currently in use?   Have you tried restarting the device to see if that helps? Let us know in DM.  https://t.co/GDrqU22YpT\n",
      "1353727223056896001 2021-01-25 10:31:35 -0500 <AppleSupport> @lukbutl We want to make sure your MacBook Air and USB ports are working as expected, thanks for getting us involved. Let’s start with the steps on our Apple Support page to resolve this:  https://t.co/asl1ZPmnCF Meet us in DM if the issue remains:  https://t.co/GDrqU2kzhr\n",
      "1353727161467883522 2021-01-25 10:31:20 -0500 <AppleSupport> @virendhariwal Thanks for that information. Join us in DM with your iOS version under Settings &gt; General &gt; About along with if you are using an eSIM and we can continue from there.  https://t.co/GDrqU22YpT\n",
      "1353727159706251267 2021-01-25 10:31:20 -0500 <AppleSupport> @charlieann93xo Thanks for getting back to us. Please use the following link to reach out to our Billing team so that they can take a closer look:  https://t.co/IBIY3vMgPj\n",
      "1353726845368356864 2021-01-25 10:30:05 -0500 <AppleSupport> @HHoeboer Sounds good. We look forward to hearing back from you.\n",
      "1353726457802072064 2021-01-25 10:28:33 -0500 <AppleSupport> @FlamingIdiot1 Thanks for reaching out, we can assist you with that. Let’s take a look at this together. This guide provides the next steps to turn off headphone notifications:  https://t.co/5q2ViVKYGS\n",
      "1353725512619880455 2021-01-25 10:24:47 -0500 <AppleSupport> @leahashley92_b Thank you for trying! Please confirm your iOS version is up to date, as well as the Facebook and Messenger applications. You can view how to update your apps here:  https://t.co/wQUXkXKEV2   Meet us in DM with your device model and we’ll be happy to help!  https://t.co/GDrqU22YpT\n",
      "1353723385470181376 2021-01-25 10:16:20 -0500 <AppleSupport> @imbozotheclown We’re happy to do all we can to help. To start, we’d like to learn more about what’s going on with iMovie. Can you send us a DM with details, including which device and exact version of software you’re using? We’ll meet you there!  https://t.co/GDrqU22YpT\n",
      "1353721352667205634 2021-01-25 10:08:16 -0500 <AppleSupport> @citizen_alx Are you using iOS version 14? You can check by going to Settings &gt; General &gt; About. If so, have you checked to see if these apps are in the App Library? This link can help with how to do so:  https://t.co/a0K7GDRLPo\n",
      "1353720735286636566 2021-01-25 10:05:48 -0500 <AppleSupport> @DarnbroughB That’s a good question. We would suggest trying to keep it within the operating temperatures that were suggested in the article. That way you should see normal performance from the battery. If you have any additional questions, DM us and we will be glad to help.  https://t.co/GDrqU22YpT\n",
      "1353720355999920131 2021-01-25 10:04:18 -0500 <AppleSupport> @120feet Thanks for reaching out to us regarding the storage on the Apple Watch 5. Can you DM us and we can take a look at this with you. We look forward to hearing from you.\n",
      "1353719211806367750 2021-01-25 09:59:45 -0500 <AppleSupport> @soo_so88 Thank you for reaching out, we are here to help. Please reach out to us in DM and we will work together to get you going in the right direction.  https://t.co/GDrqU22YpT\n",
      "1353719096496562178 2021-01-25 09:59:18 -0500 <AppleSupport> @ardifon We would be happy to help with your iPhone 12.   We offer Twitter support in English only. You can get assistance in your preferred language here   https://t.co/IBIY3vMgPj  or join your local community here:   https://t.co/HLvSjp4Bj4   DM in English here:  https://t.co/GDrqU22YpT\n",
      "1353719034139865088 2021-01-25 09:59:03 -0500 <AppleSupport> @LittleRenoucci Thank you for reaching out to us. We want to help take a look and see what happened. Are these EarPods that came with one of your devices or AirPods? Let us know in DM so that we can work on it together.  https://t.co/GDrqU22YpT\n",
      "1353718025049034753 2021-01-25 09:55:02 -0500 <AppleSupport> @ayhansahin89 We’d like to help. Since we offer support via Twitter in English only, please contact us for help in your preferred language here:  https://t.co/IBIY3vMgPj   You can also explore local community support options, here:  https://t.co/RkpgWtFqBw\n",
      "1353717899287027713 2021-01-25 09:54:32 -0500 <AppleSupport> @Der_Thomas_ Thank you for reaching out. Apple offers Twitter support in English. You can get help in your preferred language by going to  https://t.co/IBIY3vMgPj We also recommend visiting our Communities page here:  https://t.co/RkpgWtFqBw\n",
      "1353717320850563072 2021-01-25 09:52:14 -0500 <AppleSupport> @moinshekh17 Hello, and thanks for reaching out to us today; we certainly understand wanting to get the most battery life out of your iPhone 12, so we’re happy to see how we can assist.   We’ve received your DM: be on the lookout there for our response!\n",
      "1353717082387587074 2021-01-25 09:51:17 -0500 <AppleSupport> @Dnyce48285481 Thanks for reaching out. We’d like to look into this with you. Please DM us, and let us know the issues you’re seeing with your device, as well as the software version you’re using on your device.    We’ll go from there.  https://t.co/GDrqU22YpT\n",
      "1353716450293407744 2021-01-25 09:48:47 -0500 <AppleSupport> @kooksstan Thanks for reaching out. We will be happy to do all we can to help. What iOS version is your device on currently? To check, go to Settings &gt; General &gt; About &gt; Version.   Please DM us and we can continue to assist there.  https://t.co/GDrqU22YpT\n",
      "1353716198307934210 2021-01-25 09:47:47 -0500 <AppleSupport> @Sara4Geraint We assure you we can look into this with you. Are you able to see all your pictures in the Photos app? Have you granted the third-party app you’re sharing in access to the Photos app? You can check in Settings &gt; app name. Let us know in DM.  https://t.co/GDrqU22YpT\n",
      "1353714055983329280 2021-01-25 09:39:16 -0500 <AppleSupport> @BUZZFISH1 Thanks for reaching out, we’re here to assist you. We would like to take a closer look at the situation together. Please send us a DM, we’ll continue there.  https://t.co/GDrqU22YpT\n",
      "1353713855780814848 2021-01-25 09:38:28 -0500 <AppleSupport> @iGrasdackel Hello. We offer support over Twitter in English. To get help in your preferred language, please check out the links below:  • Follow this link:  https://t.co/IBIY3vMgPj • Visit Apple Support Communities:  https://t.co/NNPNJGkf2D\n",
      "1353713741343424530 2021-01-25 09:38:01 -0500 <AppleSupport> @eranudturan We’d love to see how we can help with your iPad’s battery life. To begin, let us know the exact model of iPad you’re using, as well as how you’re charging it, and the installed iPadOS version found under Settings &gt; General &gt; About. DM us that info here:  https://t.co/GDrqU22YpT\n",
      "1353713174617477120 2021-01-25 09:35:46 -0500 <AppleSupport> @ZayJones2014 We’re here to help. This article may be able to provide some guidance:  https://t.co/rDizgMu0Eh Let us know in DM if the issue persists.  https://t.co/GDrqU22YpT\n",
      "1353712911865307137 2021-01-25 09:34:43 -0500 <AppleSupport> @ForzaGrana We received your DM and will be happy to continue with you there.\n",
      "1353712721909395462 2021-01-25 09:33:58 -0500 <AppleSupport> @AaronVanDee93 We want to help make sure that your iPhone works as expected. DM us the device model, and the exact iOS installed, and we will do everything we can to help. You can find the iOS version by tapping on Settings &gt; General &gt; About.  https://t.co/GDrqU22YpT\n",
      "1353711146302402561 2021-01-25 09:27:42 -0500 <AppleSupport> @niallmcgee Hey there! We definitely understand why you would seek to stop this behavior. We’d be happy to help. We have Specialists available that support the behaviors of those apps standing by to assist you. Reach out to them directly here:  https://t.co/IBIY3vMgPj  https://t.co/GDrqU22YpT\n",
      "1353710957588045830 2021-01-25 09:26:57 -0500 <AppleSupport> @Siva_Hultian We want every encounter with us to be an exciting and pleasant experience. Your feedback is very important for us and helps Apple find ways to improve our service. Please DM us the details of your experience.  https://t.co/GDrqU22YpT\n",
      "1353710012565225474 2021-01-25 09:23:12 -0500 <AppleSupport> @justustan We would like to take a closer look to see how we can help. If you’re having an issue with your AirPods Max, meet us in DM to get started.  https://t.co/GDrqU22YpT\n",
      "1353709890313871361 2021-01-25 09:22:43 -0500 <AppleSupport> @thegeraldine We would be happy to find the best solution to help! DM us what you are seeing on the screen so we can find the best possible solution.  https://t.co/GDrqU22YpT\n",
      "1353709775905816576 2021-01-25 09:22:15 -0500 <AppleSupport> @lausace What you are seeing is a notification designed to let you know if your audio exposure has been loud enough for long enough to affect your hearing. You can find more information about this here:  https://t.co/XlH9r2KmWH DM us if you have any questions.  https://t.co/GDrqU22YpT\n",
      "1353709458325704706 2021-01-25 09:21:00 -0500 <AppleSupport> @LogicAndLifting Thanks for reaching out to us, we’re here to assist you. Just so that we don’t do anything unnecessarily repetitive, what steps were already taken to resolve the issue after the update? Please send us a DM, so we can take a closer look. We’ll continue there.  https://t.co/GDrqU22YpT\n",
      "1353709458053074947 2021-01-25 09:21:00 -0500 <AppleSupport> @BurstowMark We appreciate you reaching out about this, and we’d like to look into this together. Please DM us, so we can gather some more information, and look into this further.  https://t.co/GDrqU22YpT\n",
      "1353708764906590208 2021-01-25 09:18:14 -0500 <AppleSupport> @Sharax Thanks for reaching out again. We’d like to look into this with you.   We notice a lot of applications running in the background, which could have attributed to this. Once those are closed, and the Mac is restarted, does it run as normal?  https://t.co/A81jW6CHMw\n",
      "1353708324043304962 2021-01-25 09:16:29 -0500 <AppleSupport> @MrWeg We’d like to help. Since we provide support via Twitter in English only, please contact us in your preferred language through this link:  https://t.co/78XLpHQUnB You can also explore local community support options through this link:  https://t.co/RkpgWtFqBw\n",
      "1353707819955007489 2021-01-25 09:14:29 -0500 <AppleSupport> @tpo_yt We assure you we'll help answer this question. It sounds like you may be asking about the Apple Pencil Charging Adapter that comes with Apple Pencil (1st generation). Send us a DM and we can look more closely at a replacement for yours.  https://t.co/GDrqU22YpT\n",
      "1353706499630108672 2021-01-25 09:09:14 -0500 <AppleSupport> @HHoeboer Thanks for reaching out to us. We would be happy to assist you with this to the very best of our ability. Are you pulling this information from About This Mac as seen here  https://t.co/qlWwl8o6yq Let us know in DM:  https://t.co/GDrqU22YpT\n",
      "1353706370000945155 2021-01-25 09:08:43 -0500 <AppleSupport> @fadi_dll Thanks for reaching out to us, we’re here to assist you. What was the issue with the AirPods? Hardware service options vary by region. We would like to take a look at this together, so we can provide the best resources. Please send us a DM, and we’ll continue there.  https://t.co/GDrqU22YpT\n",
      "1353704544065232903 2021-01-25 09:01:28 -0500 <AppleSupport> @ngomaneys We are here to help whenever possible. Does disabling that VPN allow you to connect? Let us know in DM.  https://t.co/GDrqU22YpT\n",
      "1353704417661513729 2021-01-25 09:00:58 -0500 <AppleSupport> @vikki_eames Thanks for reaching out, we’re here to assist you. This guide has some next steps for update error 14:  https://t.co/l5hVda3Lyl   We recommend checking your USB connections with both the USB cable and the computer. Please send us a DM if the error persists.  https://t.co/GDrqU22YpT\n",
      "1353704092871352320 2021-01-25 08:59:41 -0500 <AppleSupport> @13Libran We’d love to see how we can help with your iPad’s battery life. To begin, let us know how quickly the battery is draining since installing that update. Also, be sure to let us know if you’ve installed any app updates:  https://t.co/O1a24ofp1p   DM us that info:  https://t.co/GDrqU22YpT\n",
      "1353704041981890562 2021-01-25 08:59:28 -0500 <AppleSupport> @Abdulla68061024 Thanks for reaching out. Where here to help you with charging your iPhone 12 Pro Max. To start, follow the steps in this article  https://t.co/xibFWR50wq Let us know how it goes in DM:  https://t.co/GDrqU22YpT\n",
      "1353703901858582528 2021-01-25 08:58:55 -0500 <AppleSupport> @lulabelldesigns We’d like to help with your iMac, and if needed, get you pointed in the right direction for help with accessing a third-party app on your iPad. To start, can you tell us what happens when you try to turn on your iMac? Let us know in a DM, and we’ll go from there.  https://t.co/GDrqU22YpT\n",
      "1353703524518014977 2021-01-25 08:57:25 -0500 <AppleSupport> @belly_tron We can certainly schedule another call for you. Please be sure, if this one doesn’t come through, to let us know ASAP, as we’re eager to speak with you. Connect with us in DM so we can confirm the best date and time to give you a call.  https://t.co/GDrqU22YpT\n",
      "1353702779735465991 2021-01-25 08:54:27 -0500 <AppleSupport> @charlieann93xo We will be happy to help with your pending subscription. Let us know more about what’s happening in DM.  https://t.co/GDrqU22YpT\n",
      "1353702704489656320 2021-01-25 08:54:09 -0500 <AppleSupport> @DCubed72 Great question! Let’s get you some information and point you in the right direction. For instructions on how to upgrade, check out  https://t.co/nUk3RCrNOB For further assistance with sales, contact our Apple Online Store team here  https://t.co/D0VIvlKbpG\n",
      "1353702527200587781 2021-01-25 08:53:27 -0500 <AppleSupport> @Marvell99886362 We are here to help whenever possible. You can find all of Apple’s recommendations in the event your device goes missing here:  https://t.co/UOquhChUH5\n",
      "1353701760074969088 2021-01-25 08:50:24 -0500 <AppleSupport> @leahashley92_b We’d like to help. For any issues regarding logging with the FaceBook and Messenger app, contact the app developer for further help:  https://t.co/D3Ppg6GFbK\n",
      "1353701581951217665 2021-01-25 08:49:42 -0500 <AppleSupport> @Keli_Marie We would like to learn more to see how we can help. How was the music on the iPods purchased? Let us know in DM to get started.  https://t.co/GDrqU22YpT\n",
      "1353701209388015618 2021-01-25 08:48:13 -0500 <AppleSupport> @ValeryCollins We’re happy to do all we can to help. To help isolate the issue you’re reporting, can you tell us if you’re able to access all other websites as expected when using Safari? If so, what happens when you try to access Google? Let us know in a DM to get started.  https://t.co/GDrqU22YpT\n",
      "1353700879724118016 2021-01-25 08:46:54 -0500 <AppleSupport> @citizen_alx We would be happy to help you find the apps you are downloading. Can you tell us the device you are using when you download the apps?\n",
      "1353700814825644033 2021-01-25 08:46:39 -0500 <AppleSupport> @PSIDDHU1 Hi! We’d like to know more about what’s occurring with your camera to help. Are the photos blurry or is there an issue viewing the preview screen? Check out the article below, and DM us the details. We’ll take it from there.    https://t.co/TvtvfuDEfX  https://t.co/GDrqU22YpT\n",
      "1353700314902392833 2021-01-25 08:44:40 -0500 <AppleSupport> @DarnbroughB Thanks for reaching out. Use iOS devices where the ambient temperature is between 0º and 35º C (32º to 95º F). Low or high temperature conditions might cause the device to change its behavior. Learn more:  https://t.co/XKNOa9h5en\n",
      "1353699874248814593 2021-01-25 08:42:55 -0500 <AppleSupport> @foreheadbiased We will be happy to help! If you give your phone a restart, does the issue return after your phone turns back on? Also, are you still able to close and open apps? Please DM us and we can continue to assist there.  https://t.co/GDrqU22YpT\n",
      "1353699685421240321 2021-01-25 08:42:10 -0500 <AppleSupport> @modxvoldhunter If you haven’t yet recovered your Apple ID account, you’ll still need to do so to resolve your issue. For help doing so, please review:  https://t.co/HHED9aXMsX Log back in once recovery is complete and let us know if you continue having issues.\n",
      "1353698298486525954 2021-01-25 08:36:39 -0500 <AppleSupport> @keiralynnaeee Let’s check out some settings together so we can help out with this brightness concern you’re experiencing. Are you seeing this behavior on your iPhone? If so, you’ll want to make some adjustments as shown here:  https://t.co/2J27xKr8I1  Questions? DM us.  https://t.co/GDrqU22YpT\n",
      "1353698109788983297 2021-01-25 08:35:54 -0500 <AppleSupport> @LordSimony We would like to learn more. DM us here:  https://t.co/GDrqU22YpT\n",
      "1353698043384770566 2021-01-25 08:35:38 -0500 <AppleSupport> @Baby_K_2011 We can help. Follow this resource to learn how to request a refund:  https://t.co/5f3dJAu0So\n",
      "1353697795035836435 2021-01-25 08:34:39 -0500 <AppleSupport> @Swagatsamal2005 Thanks for following up and sending that screenshot over. Go ahead and use Disk Utility to see if you’re able to format the drive.  https://t.co/vi7U1VXcLZ DM us if you still have issues.  https://t.co/GDrqU22YpT\n",
      "1353697223977148423 2021-01-25 08:32:23 -0500 <AppleSupport> @j_lambert13 We’re here to help. We understand how inconvenient spam messages can be. This article can provide some helpful tips:  https://t.co/XefTdd2gxD\n",
      "1353696851053203458 2021-01-25 08:30:54 -0500 <AppleSupport> @VineetS60883704 We’d like to look into this with you. Please meet us in DM and tell us more on how you were able to identify the temperature and if this only happens when charging. Let us know which macOS is running and model Mac you have as well. We’ll work with you there.  https://t.co/GDrqU22YpT\n",
      "1353696468541038594 2021-01-25 08:29:23 -0500 <AppleSupport> @ace We’d like to look into the the low screen brightness with you. If the steps in this article don’t help -  https://t.co/zq2ySBDphD - meet us in DM and tell us more about what’s happening and we’ll work with you there.  https://t.co/GDrqU22YpT\n",
      "1353696468507512832 2021-01-25 08:29:23 -0500 <AppleSupport> @wormycroissant Thanks for reaching out to us, we’re here to assist you. We would like to gather some more information about the issue, and work together on the best solution. Please send us a DM, and we’ll take a look at this further.  https://t.co/GDrqU22YpT\n",
      "1353696283580628992 2021-01-25 08:28:39 -0500 <AppleSupport> @SavingWorld1 Thanks for reaching out. We know how important it is to keep up with your purchased content. Please connect with our Apple TV team directly at the following link to work on this issue:  https://t.co/IBIY3vMgPj\n",
      "1353696220473151489 2021-01-25 08:28:24 -0500 <AppleSupport> @pennhursts We want to help with any issues you’re having with your device. Please meet us in DM and provide us more details on the issues. Be sure to include the OS Version and let us know if restarting has any impact on this. We’ll work with you there.  https://t.co/GDrqU22YpT\n",
      "1353696156791013378 2021-01-25 08:28:08 -0500 <AppleSupport> @eIwheeIer We want to help out with your Apple devices. So let’s take a look at them one at a time. Which AirPods are you using? Also, please DM us some more details about what’s going on with them so that we can work on this together.  https://t.co/GDrqU22YpT\n",
      "1353695653168373761 2021-01-25 08:26:08 -0500 <AppleSupport> @LBGrey68 It sounds like you’re having some issues with your iPhone and we’d like to help. Do you experience these issues with a specific app? Have you updated to the latest iOS version? Please send us a DM with more information.  https://t.co/GDrqU22YpT\n",
      "1353695275395788802 2021-01-25 08:24:38 -0500 <AppleSupport> @EphraimJason Thanks for reaching out. We will be happy to help! You can manage and cancel your subscriptions on any of your devices signed into the Apple ID you used to subscribe. You can find the steps on how to manage your subscriptions here:  https://t.co/bXPLrwgxW0\n",
      "1353694831038627843 2021-01-25 08:22:52 -0500 <AppleSupport> @maejor2x We’re here for you. To start, what device are you using these apps on?\n",
      "1353693758886445056 2021-01-25 08:18:37 -0500 <AppleSupport> @geoorga We see that you’re receiving an alert about the storage on your Apple Watch when trying to install the update. We’d be happy to offer some help with finishing the install. Check out this link:  https://t.co/CU5ViQ6iRl DM us if you have more questions.  https://t.co/GDrqU22YpT\n",
      "1353693255796449281 2021-01-25 08:16:37 -0500 <AppleSupport> @FlutterlyLtd We appreciate your feedback and requests and encourage you to share your suggestions with Apple directly using this link:  https://t.co/eTPVYVFyd8\n",
      "1353692882025197571 2021-01-25 08:15:08 -0500 <AppleSupport> @geetika1881 Thank you for reaching out to us, we’re here to assist you. We would like to gather some more details about the Mac issue. Please send us a DM, so we can take a look at this together. We’ll continue there.  https://t.co/GDrqU22YpT\n",
      "1353692699942154244 2021-01-25 08:14:24 -0500 <AppleSupport> @MissSunshi Greetings! We appreciate your patience as we were closed overnight. We understand your Aunt’s concerns when needing her work email added to her iPhone. We’d like to assist. Check out steps to add email accounts here:  https://t.co/WWQZ7VI93X   Questions? DM us.  https://t.co/GDrqU22YpT\n",
      "1353692184294416384 2021-01-25 08:12:21 -0500 <AppleSupport> @ah2gcc Thanks for reaching out to us, we’re here to assist you. We recommend charging the MacBook Pro with the included power adapter and USB-C charge cable. This guide shows which power adapter should be used with your Mac:  https://t.co/b4vC6wvYEw\n",
      "1353691306363641857 2021-01-25 08:08:52 -0500 <AppleSupport> @virendhariwal We appreciate that you have reached out with the issue you’re experiencing while trying to make a conference call on your iPhone. Which iPhone are you using, and what is the iOS version? Do you also use an eSIM? Let us know in DM.\n",
      "1353559073862660098 2021-01-24 23:23:25 -0500 <AppleSupport> @Adrian_93g Thanks for reaching out to us for support. We truly value your input and would love to help you.  When you have a free moment, please use the following link to provide us with feedback and/or suggestions:  https://t.co/eTPVYVFyd8\n",
      "1353555730524209152 2021-01-24 23:10:08 -0500 <AppleSupport> @messy_n8 Hey there. We want to look into this with you. To get started, meet us in DM and let us know which model AirPods you have.  https://t.co/GDrqU22YpT\n",
      "1353552580979388417 2021-01-24 22:57:37 -0500 <AppleSupport> @pinchez1 Thanks for reaching out. We’d be happy to help. Which device model, and what is the exact issues you’re experiencing with your device? The more details you can provide, the better we’ll be able to assist you.  Please DM us here:  https://t.co/GDrqU22YpT\n",
      "1353551261816262661 2021-01-24 22:52:23 -0500 <AppleSupport> @bisoupjm Thanks for reaching out to us via Twitter. Please do not hesitate to tweet us back describing the issue that you’re experiencing, and we’ll do our best to help you find a solution.\n",
      "1353547854653124608 2021-01-24 22:38:50 -0500 <AppleSupport> @madhuusv Alright, we recommend reaching out to our billing support so they can check on this with you:  https://t.co/UJm15vmMM2\n",
      "1353546720601374722 2021-01-24 22:34:20 -0500 <AppleSupport> @IAmSara13 Thanks for taking time to report this to us here. We are here to help with your next steps. If you continue to notice inaccurate whether tap ’The Weather Channel’ and report that to the website providing this weather data.  https://t.co/cget24AGIC\n",
      "1353538663699910662 2021-01-24 22:02:19 -0500 <AppleSupport> @NecessaSarahy Thanks for reaching out about this. We want to look into this with you. Please meet us in DM to get started.  https://t.co/GDrqU22YpT\n",
      "1353537586640388096 2021-01-24 21:58:02 -0500 <AppleSupport> @dnlrva We’re here to help take a further look into this. Please DM us, what the cycle count is, and we’ll get started. This article will help identify these details:  https://t.co/K8EHMc4HTd  https://t.co/GDrqU22YpT\n",
      "1353537335875534854 2021-01-24 21:57:03 -0500 <AppleSupport> @zma0102 Are you having an issue when trying to download Memoji for your Apple Watch? Send us a DM with which iPhone and Watch models you’re using, as well as the software version number listed under Settings &gt; General &gt; About for each. We’ll help take a closer look from there.  https://t.co/GDrqU22YpT\n",
      "1353536645895778305 2021-01-24 21:54:18 -0500 <AppleSupport> @RaphaelWashing5 Hey thanks for reaching out to us!  We want to look into this issue with you further. Does this happen whenever the device is in use or is it intermittent? Let us know in a DM and we can go from there.  https://t.co/GDrqU22YpT\n",
      "1353527695473319937 2021-01-24 21:18:44 -0500 <AppleSupport> @billiej33n Thanks for reaching out, we want to look into this with you. Have you tried to erase the contact information and create a new one? Send us a DM with the current IOS version on your iPhone (Settings&gt;General&gt;About), If you continue to experience this after those steps.  https://t.co/GDrqU22YpT\n",
      "1353525301268127746 2021-01-24 21:09:13 -0500 <AppleSupport> @tootrippytoday That’s never the experience we want you to have. Can you provide us with additional details of what precisely happened, and if it’s still occurring? We’re happy to meet in DM to check into this concern.  https://t.co/GDrqU22YpT\n",
      "1353521714475520001 2021-01-24 20:54:58 -0500 <AppleSupport> @0ntoo Hey there, we’d be happy to help take a look. How often does it seem to be lagging? Which model iPhone are you using, and what iOS software version is currently listed under Settings &gt; General &gt; About? Let us know via DM and we’ll continue from there.  https://t.co/GDrqU22YpT\n",
      "1353519761993437185 2021-01-24 20:47:13 -0500 <AppleSupport> @PinkDesMatter We’e more than happy to see how we can help. DM us and let us know how long the battery lasts from 100% - 0% and we’ll go from there.  https://t.co/GDrqU22YpT\n",
      "1353519131186720768 2021-01-24 20:44:42 -0500 <AppleSupport> @Iam_Lexxx We can definitely check into this with you. Which version of OS are you using, and on what device? Are these messages in blue or green bubbles? Let us know in DM and we’ll continue there:  https://t.co/GDrqU2kzhr\n",
      "1353517998418628609 2021-01-24 20:40:12 -0500 <AppleSupport> @strebel Thanks for reaching out to us for support. We would love to help you. When you have a free moment, please DM us so that we can look into this together. Also, please make sure you’re running the latest version of iOS as well.   iOS Version:  https://t.co/Z7aS8niPqi  https://t.co/GDrqU22YpT\n",
      "1353517364424421376 2021-01-24 20:37:41 -0500 <AppleSupport> @DeenoThaGreat We’re happy to help with the best options, but will need additional information to do so. Is this a device password, or the password for an Apple ID? Have you checked out  https://t.co/M28VVibnJ2 for appointments or store availability? Let us know in DM:  https://t.co/GDrqU22YpT\n"
     ]
    }
   ],
   "source": [
    "c = twint.Config()\n",
    "c.Username = \"AppleSupport\"\n",
    "# c.Search = \n",
    "c.Limit = 11\n",
    "# c.Since = \"2011-1-01\"\n",
    "# c.Until = \"2021-1-01\"\n",
    "\n",
    "# Run\n",
    "twint.run.Search(c)"
   ]
  },
  {
   "cell_type": "markdown",
   "id": "interstate-walker",
   "metadata": {},
   "source": [
    "**What is the minimum number of rows?**\n",
    "\n",
    "- date row\n",
    "- actual message\n",
    "- user\n",
    "- apples response message\n",
    "- NLP label: 0 positive tone, 1 neutral tone, 2 very negative"
   ]
  },
  {
   "cell_type": "markdown",
   "id": "hundred-emerald",
   "metadata": {},
   "source": [
    "# Visualization "
   ]
  },
  {
   "cell_type": "markdown",
   "id": "behavioral-replication",
   "metadata": {},
   "source": [
    "**How will you visualizes features?**\n",
    "\n",
    "- bar graph of different words\n",
    "- time series of different complaints over time\n",
    "- time series of apple responses\n",
    "\n",
    "**How will you produce at least 4 visualizations**\n",
    "\n",
    "- words combined in a bar graph\n",
    "- strong words seperately in a time series graph"
   ]
  },
  {
   "cell_type": "markdown",
   "id": "distant-amendment",
   "metadata": {},
   "source": [
    "# Tech Stack"
   ]
  },
  {
   "cell_type": "markdown",
   "id": "worse-scholar",
   "metadata": {},
   "source": [
    "**What technologies will you use?**\n",
    "\n",
    "- twint\n",
    "- time series\n",
    "- NLP\n",
    "- logistic regression to make predictions\n",
    "- random forest\n",
    "- confusion matrix\n",
    "- grid search :("
   ]
  },
  {
   "cell_type": "markdown",
   "id": "mysterious-queens",
   "metadata": {},
   "source": [
    "# Research and Domain Knowledge"
   ]
  },
  {
   "cell_type": "markdown",
   "id": "dutch-opening",
   "metadata": {},
   "source": [
    "- I use to have mac computers and iphones. I remember the problems I ran into. The wait times. The monopoly apple had, not letting customers use non apple products. \n",
    "- I will research other user complaints (I already saw that one user computer exploded)"
   ]
  },
  {
   "cell_type": "markdown",
   "id": "subsequent-converter",
   "metadata": {},
   "source": [
    "# MVP & Supervised Learning"
   ]
  },
  {
   "cell_type": "markdown",
   "id": "bound-prevention",
   "metadata": {},
   "source": [
    "- an NLP project (I hope I can accomplish in a week, I've never tried)\n",
    "- I will heavily be using FangFangs lecture notes for NLP to see if I can guess sentiment "
   ]
  },
  {
   "cell_type": "markdown",
   "id": "approximate-helmet",
   "metadata": {},
   "source": [
    "# Beyond the MVP"
   ]
  },
  {
   "cell_type": "markdown",
   "id": "sufficient-jacob",
   "metadata": {},
   "source": [
    "**How will you build on your MVP to improve and add to your project? What are your stretch goals?**\n",
    "\n",
    "- a super stretch would be to compare this to geek squard tweets"
   ]
  },
  {
   "cell_type": "markdown",
   "id": "editorial-shore",
   "metadata": {},
   "source": [
    "# Evaluation Metrics"
   ]
  },
  {
   "cell_type": "markdown",
   "id": "absolute-carrier",
   "metadata": {},
   "source": [
    "- word count"
   ]
  }
 ],
 "metadata": {
  "kernelspec": {
   "display_name": "Python 3",
   "language": "python",
   "name": "python3"
  },
  "language_info": {
   "codemirror_mode": {
    "name": "ipython",
    "version": 3
   },
   "file_extension": ".py",
   "mimetype": "text/x-python",
   "name": "python",
   "nbconvert_exporter": "python",
   "pygments_lexer": "ipython3",
   "version": "3.8.6"
  }
 },
 "nbformat": 4,
 "nbformat_minor": 5
}
